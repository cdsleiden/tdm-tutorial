{
 "cells": [
  {
   "cell_type": "markdown",
   "metadata": {},
   "source": [
    "# Welcome"
   ]
  },
  {
   "cell_type": "markdown",
   "metadata": {},
   "source": [
    "This tutorial explains a number of basis analyses in the field of Text and Data Mining. These analyses have all been implemented usig Python. \n",
    "\n",
    "You can download all the notebooks written for this tutorial at the following address: \n",
    "\n",
    "[https://github.com/peterverhaar/text-and-data-mining/archive/refs/heads/main.zip](https://github.com/peterverhaar/text-and-data-mining/archive/refs/heads/main.zip)\n",
    "\n",
    "When you download and unzip this folder, make sure that you put the unzipped folder (*text-and-data-mining-master* by default) in a location that you can access from the Jupyter Notebook environment. \n"
   ]
  }
 ],
 "metadata": {
  "kernelspec": {
   "display_name": "Python 3 (ipykernel)",
   "language": "python",
   "name": "python3"
  },
  "language_info": {
   "codemirror_mode": {
    "name": "ipython",
    "version": 3
   },
   "file_extension": ".py",
   "mimetype": "text/x-python",
   "name": "python",
   "nbconvert_exporter": "python",
   "pygments_lexer": "ipython3",
   "version": "3.7.9"
  }
 },
 "nbformat": 4,
 "nbformat_minor": 2
}
